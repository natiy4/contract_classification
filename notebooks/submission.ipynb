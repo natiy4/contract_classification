{
 "cells": [
  {
   "cell_type": "code",
   "execution_count": 1,
   "metadata": {},
   "outputs": [],
   "source": [
    "import sys\n",
    "from functools import partial\n",
    "from zipfile import ZipFile\n",
    "import pandas as pd\n",
    "sys.path.append('../src')\n",
    "%matplotlib inline"
   ]
  },
  {
   "cell_type": "markdown",
   "metadata": {},
   "source": [
    "# Your contact details"
   ]
  },
  {
   "cell_type": "code",
   "execution_count": 37,
   "metadata": {},
   "outputs": [],
   "source": [
    "# If you're having problem importing this file, copy and paste the contents of \"uatt.py\" in this cell instead\n",
    "# of the import statement\n",
    "from uatt import submit\n",
    "my_submit = partial(submit, \"nati yannay\", \"elta\", \"natiy4@gmail.com\", \"0528843480\")"
   ]
  },
  {
   "cell_type": "markdown",
   "metadata": {},
   "source": [
    "# Read data"
   ]
  },
  {
   "cell_type": "code",
   "execution_count": 3,
   "metadata": {},
   "outputs": [
    {
     "data": {
      "text/html": [
       "<div>\n",
       "<style scoped>\n",
       "    .dataframe tbody tr th:only-of-type {\n",
       "        vertical-align: middle;\n",
       "    }\n",
       "\n",
       "    .dataframe tbody tr th {\n",
       "        vertical-align: top;\n",
       "    }\n",
       "\n",
       "    .dataframe thead th {\n",
       "        text-align: right;\n",
       "    }\n",
       "</style>\n",
       "<table border=\"1\" class=\"dataframe\">\n",
       "  <thead>\n",
       "    <tr style=\"text-align: right;\">\n",
       "      <th></th>\n",
       "      <th>id</th>\n",
       "      <th>label</th>\n",
       "      <th>content</th>\n",
       "    </tr>\n",
       "  </thead>\n",
       "  <tbody>\n",
       "    <tr>\n",
       "      <th>209</th>\n",
       "      <td>39760</td>\n",
       "      <td>bylaws</td>\n",
       "      <td>Exhibit 3.2 \\n\\n\\n\\nof \\n\\nNEWPAGE CORPORATION...</td>\n",
       "    </tr>\n",
       "    <tr>\n",
       "      <th>1531</th>\n",
       "      <td>10540</td>\n",
       "      <td>employment</td>\n",
       "      <td>Exhibit 10.40 \\n\\n\\n\\nTHIS EMPLOYMENT AGREEMEN...</td>\n",
       "    </tr>\n",
       "    <tr>\n",
       "      <th>191</th>\n",
       "      <td>39580</td>\n",
       "      <td>bylaws</td>\n",
       "      <td>EXHIBIT 3.2\\n\\n\\n\\nOF\\n\\nSCHAWK, INC.*\\n\\nARTI...</td>\n",
       "    </tr>\n",
       "    <tr>\n",
       "      <th>3466</th>\n",
       "      <td>28500</td>\n",
       "      <td>rsu</td>\n",
       "      <td>\\n\\n\\n  \\n\\n\\nExhibit 10.2\\n\\n  \\n\\n\\nCOMPUT...</td>\n",
       "    </tr>\n",
       "    <tr>\n",
       "      <th>724</th>\n",
       "      <td>02470</td>\n",
       "      <td>credit</td>\n",
       "      <td>* * *\\n\\n* * *\\n\\nExhibit 10.2  \\n\\n\\n  \\n\\n\\n...</td>\n",
       "    </tr>\n",
       "    <tr>\n",
       "      <th>3624</th>\n",
       "      <td>30080</td>\n",
       "      <td>rsu</td>\n",
       "      <td>Exhibit 10.5 \\n\\n\\n\\nIssued Pursuant to the \\n...</td>\n",
       "    </tr>\n",
       "    <tr>\n",
       "      <th>1791</th>\n",
       "      <td>13140</td>\n",
       "      <td>employment</td>\n",
       "      <td>Exhibit 10.1\\n\\n\\n\\nThis EMPLOYMENT AGREEMENT ...</td>\n",
       "    </tr>\n",
       "    <tr>\n",
       "      <th>3813</th>\n",
       "      <td>31970</td>\n",
       "      <td>rsu</td>\n",
       "      <td>\\nQuickLinks \\-- Click here to rapidly navig...</td>\n",
       "    </tr>\n",
       "    <tr>\n",
       "      <th>1938</th>\n",
       "      <td>14610</td>\n",
       "      <td>employment</td>\n",
       "      <td>Exhibit 10.2 \\n\\n\\n\\nTHIS AGREEMENT is made as...</td>\n",
       "    </tr>\n",
       "    <tr>\n",
       "      <th>317</th>\n",
       "      <td>40840</td>\n",
       "      <td>bylaws</td>\n",
       "      <td>EXHIBIT 3.4 \\n\\n\\n\\nB Y — L A W S\\n\\n(As amend...</td>\n",
       "    </tr>\n",
       "  </tbody>\n",
       "</table>\n",
       "</div>"
      ],
      "text/plain": [
       "         id       label                                            content\n",
       "209   39760      bylaws  Exhibit 3.2 \\n\\n\\n\\nof \\n\\nNEWPAGE CORPORATION...\n",
       "1531  10540  employment  Exhibit 10.40 \\n\\n\\n\\nTHIS EMPLOYMENT AGREEMEN...\n",
       "191   39580      bylaws  EXHIBIT 3.2\\n\\n\\n\\nOF\\n\\nSCHAWK, INC.*\\n\\nARTI...\n",
       "3466  28500         rsu    \\n\\n\\n  \\n\\n\\nExhibit 10.2\\n\\n  \\n\\n\\nCOMPUT...\n",
       "724   02470      credit  * * *\\n\\n* * *\\n\\nExhibit 10.2  \\n\\n\\n  \\n\\n\\n...\n",
       "3624  30080         rsu  Exhibit 10.5 \\n\\n\\n\\nIssued Pursuant to the \\n...\n",
       "1791  13140  employment  Exhibit 10.1\\n\\n\\n\\nThis EMPLOYMENT AGREEMENT ...\n",
       "3813  31970         rsu    \\nQuickLinks \\-- Click here to rapidly navig...\n",
       "1938  14610  employment  Exhibit 10.2 \\n\\n\\n\\nTHIS AGREEMENT is made as...\n",
       "317   40840      bylaws  EXHIBIT 3.4 \\n\\n\\n\\nB Y — L A W S\\n\\n(As amend..."
      ]
     },
     "execution_count": 3,
     "metadata": {},
     "output_type": "execute_result"
    }
   ],
   "source": [
    "data = []\n",
    "with ZipFile(\"../data/data.zip\") as z:\n",
    "    for fname in z.namelist():\n",
    "        if not fname.endswith('.txt') or not fname.startswith('data'):\n",
    "            continue\n",
    "        content = z.read(fname).decode('utf8')\n",
    "        label, idx = fname[5:-4].split('-', 1)\n",
    "        data.append((idx,label,content,))\n",
    "df_train = pd.DataFrame(data, columns=(\"id\", \"label\", \"content\"))\n",
    "df_train.sample(10)"
   ]
  },
  {
   "cell_type": "code",
   "execution_count": 4,
   "metadata": {},
   "outputs": [
    {
     "data": {
      "text/html": [
       "<div>\n",
       "<style scoped>\n",
       "    .dataframe tbody tr th:only-of-type {\n",
       "        vertical-align: middle;\n",
       "    }\n",
       "\n",
       "    .dataframe tbody tr th {\n",
       "        vertical-align: top;\n",
       "    }\n",
       "\n",
       "    .dataframe thead th {\n",
       "        text-align: right;\n",
       "    }\n",
       "</style>\n",
       "<table border=\"1\" class=\"dataframe\">\n",
       "  <thead>\n",
       "    <tr style=\"text-align: right;\">\n",
       "      <th></th>\n",
       "      <th>id</th>\n",
       "      <th>content</th>\n",
       "    </tr>\n",
       "  </thead>\n",
       "  <tbody>\n",
       "    <tr>\n",
       "      <th>543</th>\n",
       "      <td>rovuz</td>\n",
       "      <td>Exhibit 10.30 \\n\\nFORM OF \\n\\n\\n\\nPURSUANT TO ...</td>\n",
       "    </tr>\n",
       "    <tr>\n",
       "      <th>821</th>\n",
       "      <td>zyfno</td>\n",
       "      <td>Exhibit 10.1 \\n\\n\\n\\nEmployment Agreement date...</td>\n",
       "    </tr>\n",
       "    <tr>\n",
       "      <th>643</th>\n",
       "      <td>usary</td>\n",
       "      <td>Exhibit 10.2 \\n\\nExecution Copy \\n\\n\\n\\nThis E...</td>\n",
       "    </tr>\n",
       "    <tr>\n",
       "      <th>208</th>\n",
       "      <td>gslpc</td>\n",
       "      <td>Exhibit 10.19\\n\\nFRANCESCA’S HOLDINGS CORPORAT...</td>\n",
       "    </tr>\n",
       "    <tr>\n",
       "      <th>535</th>\n",
       "      <td>rhswc</td>\n",
       "      <td>Second Amendment To \\n\\nAmended and Restated\\n...</td>\n",
       "    </tr>\n",
       "    <tr>\n",
       "      <th>43</th>\n",
       "      <td>bofsm</td>\n",
       "      <td>Exhibit 10.86\\n\\n\\n\\nAgreement, made as of Jan...</td>\n",
       "    </tr>\n",
       "    <tr>\n",
       "      <th>733</th>\n",
       "      <td>xupyc</td>\n",
       "      <td>Exhibit 10.13 \\n\\n\\n\\nTHIS EMPLOYMENT AGREEMEN...</td>\n",
       "    </tr>\n",
       "    <tr>\n",
       "      <th>517</th>\n",
       "      <td>qnmpo</td>\n",
       "      <td>\\n\\n\\n\\n\\n  \\n\\n\\nStock Purchase Agreement, ...</td>\n",
       "    </tr>\n",
       "    <tr>\n",
       "      <th>509</th>\n",
       "      <td>qifwz</td>\n",
       "      <td>Exhibit 10.17\\n\\n\\n\\nTHIS EMPLOYMENT AGREEMENT...</td>\n",
       "    </tr>\n",
       "    <tr>\n",
       "      <th>669</th>\n",
       "      <td>vqxis</td>\n",
       "      <td>EXHIBIT 10.1\\n\\nFLASR, INC.\\n\\nSERIES A CONVER...</td>\n",
       "    </tr>\n",
       "  </tbody>\n",
       "</table>\n",
       "</div>"
      ],
      "text/plain": [
       "        id                                            content\n",
       "543  rovuz  Exhibit 10.30 \\n\\nFORM OF \\n\\n\\n\\nPURSUANT TO ...\n",
       "821  zyfno  Exhibit 10.1 \\n\\n\\n\\nEmployment Agreement date...\n",
       "643  usary  Exhibit 10.2 \\n\\nExecution Copy \\n\\n\\n\\nThis E...\n",
       "208  gslpc  Exhibit 10.19\\n\\nFRANCESCA’S HOLDINGS CORPORAT...\n",
       "535  rhswc  Second Amendment To \\n\\nAmended and Restated\\n...\n",
       "43   bofsm  Exhibit 10.86\\n\\n\\n\\nAgreement, made as of Jan...\n",
       "733  xupyc  Exhibit 10.13 \\n\\n\\n\\nTHIS EMPLOYMENT AGREEMEN...\n",
       "517  qnmpo    \\n\\n\\n\\n\\n  \\n\\n\\nStock Purchase Agreement, ...\n",
       "509  qifwz  Exhibit 10.17\\n\\n\\n\\nTHIS EMPLOYMENT AGREEMENT...\n",
       "669  vqxis  EXHIBIT 10.1\\n\\nFLASR, INC.\\n\\nSERIES A CONVER..."
      ]
     },
     "execution_count": 4,
     "metadata": {},
     "output_type": "execute_result"
    }
   ],
   "source": [
    "data = []\n",
    "with ZipFile(\"../data/test_data.zip\") as z:\n",
    "    for fname in z.namelist():\n",
    "        content = z.read(fname).decode('utf8')\n",
    "        if not fname.endswith('.txt') or not fname.startswith('test'):\n",
    "            continue\n",
    "        idx = fname[5:-4]\n",
    "        data.append((idx,content,))\n",
    "df_test = pd.DataFrame(data, columns=(\"id\", \"content\"))\n",
    "df_test.sample(10)"
   ]
  },
  {
   "cell_type": "markdown",
   "metadata": {},
   "source": [
    "# Plot distribution of labels"
   ]
  },
  {
   "cell_type": "code",
   "execution_count": 29,
   "metadata": {},
   "outputs": [
    {
     "data": {
      "text/plain": [
       "<AxesSubplot:>"
      ]
     },
     "execution_count": 29,
     "metadata": {},
     "output_type": "execute_result"
    },
    {
     "data": {
      "image/png": "[encoded data removed]",
      "text/plain": [
       "<Figure size 432x288 with 1 Axes>"
      ]
     },
     "metadata": {
      "needs_background": "light"
     },
     "output_type": "display_data"
    }
   ],
   "source": [
    "my_tags = df_train.label.unique()\n",
    "\n",
    "df_train[\"label\"].hist()"
   ]
  },
  {
   "cell_type": "markdown",
   "metadata": {},
   "source": [
    "## model claculation "
   ]
  },
  {
   "cell_type": "code",
   "execution_count": 15,
   "metadata": {},
   "outputs": [],
   "source": [
    "from sklearn.model_selection import train_test_split\n",
    "train_data, test_data = train_test_split(df_train, test_size=0.1, random_state=42)"
   ]
  },
  {
   "cell_type": "markdown",
   "metadata": {},
   "source": [
    "### baseline"
   ]
  },
  {
   "cell_type": "code",
   "execution_count": 17,
   "metadata": {},
   "outputs": [
    {
     "name": "stderr",
     "output_type": "stream",
     "text": [
      "[nltk_data] Downloading package punkt to\n",
      "[nltk_data]     C:\\Users\\natiy\\AppData\\Roaming\\nltk_data...\n",
      "[nltk_data]   Unzipping tokenizers\\punkt.zip.\n"
     ]
    }
   ],
   "source": [
    "import logging\n",
    "logging.root.handlers = []  # Jupyter messes up logging so needs a reset\n",
    "logging.basicConfig(format='%(asctime)s : %(levelname)s : %(message)s', level=logging.INFO)\n",
    "from smart_open import smart_open\n",
    "import pandas as pd\n",
    "import numpy as np\n",
    "from numpy import random\n",
    "import gensim\n",
    "import nltk\n",
    "from sklearn.model_selection import train_test_split\n",
    "from sklearn import linear_model\n",
    "from sklearn.feature_extraction.text import CountVectorizer, TfidfVectorizer\n",
    "from sklearn.metrics import accuracy_score, confusion_matrix\n",
    "import matplotlib.pyplot as plt\n",
    "from gensim.models import Word2Vec\n",
    "from sklearn.neighbors import KNeighborsClassifier\n",
    "from sklearn import linear_model\n",
    "from nltk.corpus import stopwords\n",
    "\n",
    "nltk.download('punkt')\n",
    "%matplotlib inline"
   ]
  },
  {
   "cell_type": "code",
   "execution_count": null,
   "metadata": {},
   "outputs": [],
   "source": []
  },
  {
   "cell_type": "code",
   "execution_count": 18,
   "metadata": {},
   "outputs": [],
   "source": [
    "def plot_confusion_matrix(cm, title='Confusion matrix', cmap=plt.cm.Blues):\n",
    "    plt.imshow(cm, interpolation='nearest', cmap=cmap)\n",
    "    plt.title(title)\n",
    "    plt.colorbar()\n",
    "    tick_marks = np.arange(len(my_tags))\n",
    "    target_names = my_tags\n",
    "    plt.xticks(tick_marks, target_names, rotation=45)\n",
    "    plt.yticks(tick_marks, target_names)\n",
    "    plt.tight_layout()\n",
    "    plt.ylabel('True label')\n",
    "    plt.xlabel('Predicted label')"
   ]
  },
  {
   "cell_type": "code",
   "execution_count": 19,
   "metadata": {},
   "outputs": [],
   "source": [
    "def evaluate_prediction(predictions, target, title=\"Confusion matrix\"):\n",
    "    print('accuracy %s' % accuracy_score(target, predictions))\n",
    "    cm = confusion_matrix(target, predictions, labels=my_tags)\n",
    "    print('confusion matrix\\n %s' % cm)\n",
    "    print('(row=expected, col=predicted)')\n",
    "    \n",
    "    cm_normalized = cm.astype('float') / cm.sum(axis=1)[:, np.newaxis]\n",
    "    plot_confusion_matrix(cm_normalized, title + ' Normalized')"
   ]
  },
  {
   "cell_type": "code",
   "execution_count": 27,
   "metadata": {},
   "outputs": [],
   "source": [
    "def predict(vectorizer, classifier, data):\n",
    "    data_features = vectorizer.transform(data['content'])\n",
    "    predictions = classifier.predict(data_features)\n",
    "    target = data['label']\n",
    "    evaluate_prediction(predictions, target)"
   ]
  },
  {
   "cell_type": "markdown",
   "metadata": {},
   "source": [
    "Baseline: bag of words, n-grams, tf-idf\n",
    "Let's start with some simple baselines before diving into more advanced methods.\n",
    "\n",
    "Bag of words\n",
    "The simplest document feature is just a count of each word occurrence in a document.\n",
    "\n",
    "We remove stop-words and use NLTK tokenizer then limit our vocabulary to 3k most frequent words."
   ]
  },
  {
   "cell_type": "code",
   "execution_count": 21,
   "metadata": {},
   "outputs": [],
   "source": [
    "def tokenize_text(text):\n",
    "    tokens = []\n",
    "    for sent in nltk.sent_tokenize(text):\n",
    "        for word in nltk.word_tokenize(sent):\n",
    "            if len(word) < 2:\n",
    "                continue\n",
    "            tokens.append(word.lower())\n",
    "    return tokens"
   ]
  },
  {
   "cell_type": "code",
   "execution_count": 22,
   "metadata": {},
   "outputs": [
    {
     "name": "stdout",
     "output_type": "stream",
     "text": [
      "Wall time: 52.3 s\n"
     ]
    }
   ],
   "source": [
    "%%time\n",
    "# training\n",
    "count_vectorizer = CountVectorizer(\n",
    "    analyzer=\"word\", tokenizer=nltk.word_tokenize,\n",
    "    preprocessor=None, stop_words='english', max_features=3000) \n",
    "train_data_features = count_vectorizer.fit_transform(train_data['content'])"
   ]
  },
  {
   "cell_type": "markdown",
   "metadata": {},
   "source": [
    "Multi-modal logistic regression is a simple white-box classifier. We will use either logistic regression or KNN throughout this tutorial.\n",
    "\n"
   ]
  },
  {
   "cell_type": "code",
   "execution_count": 24,
   "metadata": {},
   "outputs": [
    {
     "name": "stderr",
     "output_type": "stream",
     "text": [
      "C:\\Users\\natiy\\AppData\\Local\\Packages\\PythonSoftwareFoundation.Python.3.9_qbz5n2kfra8p0\\LocalCache\\local-packages\\Python39\\site-packages\\sklearn\\linear_model\\_logistic.py:814: ConvergenceWarning: lbfgs failed to converge (status=1):\n",
      "STOP: TOTAL NO. of ITERATIONS REACHED LIMIT.\n",
      "\n",
      "Increase the number of iterations (max_iter) or scale the data as shown in:\n",
      "    https://scikit-learn.org/stable/modules/preprocessing.html\n",
      "Please also refer to the documentation for alternative solver options:\n",
      "    https://scikit-learn.org/stable/modules/linear_model.html#logistic-regression\n",
      "  n_iter_i = _check_optimize_result(\n"
     ]
    }
   ],
   "source": [
    "logreg = linear_model.LogisticRegression(n_jobs=1, C=1e5)\n",
    "logreg = logreg.fit(train_data_features, train_data['label'])"
   ]
  },
  {
   "cell_type": "code",
   "execution_count": 25,
   "metadata": {},
   "outputs": [
    {
     "name": "stderr",
     "output_type": "stream",
     "text": [
      "C:\\Users\\natiy\\AppData\\Local\\Packages\\PythonSoftwareFoundation.Python.3.9_qbz5n2kfra8p0\\LocalCache\\local-packages\\Python39\\site-packages\\sklearn\\utils\\deprecation.py:87: FutureWarning: Function get_feature_names is deprecated; get_feature_names is deprecated in 1.0 and will be removed in 1.2. Please use get_feature_names_out instead.\n",
      "  warnings.warn(msg, category=FutureWarning)\n"
     ]
    },
    {
     "data": {
      "text/plain": [
       "['18.', '180', '18\\\\', '19', '19.', '1933', '1934', '1986', '1998', '1999']"
      ]
     },
     "execution_count": 25,
     "metadata": {},
     "output_type": "execute_result"
    }
   ],
   "source": [
    "count_vectorizer.get_feature_names()[80:90]\n"
   ]
  },
  {
   "cell_type": "code",
   "execution_count": 30,
   "metadata": {},
   "outputs": [
    {
     "name": "stdout",
     "output_type": "stream",
     "text": [
      "accuracy 0.9841986455981941\n",
      "confusion matrix\n",
      " [[ 25   0   0   1   0   0]\n",
      " [  0  45   0   0   0   0]\n",
      " [  0   0  14   1   0   0]\n",
      " [  0   0   0 139   0   0]\n",
      " [  1   0   0   0  12   0]\n",
      " [  2   0   0   2   0 201]]\n",
      "(row=expected, col=predicted)\n"
     ]
    },
    {
     "data": {
      "image/png": "[encoded data removed]",
      "text/plain": [
       "<Figure size 432x288 with 2 Axes>"
      ]
     },
     "metadata": {
      "needs_background": "light"
     },
     "output_type": "display_data"
    }
   ],
   "source": [
    "predict(count_vectorizer, logreg, test_data)\n"
   ]
  },
  {
   "cell_type": "markdown",
   "metadata": {},
   "source": [
    "# Submit\n",
    "## Sample submission 1: \"All RSU\""
   ]
  },
  {
   "cell_type": "code",
   "execution_count": 34,
   "metadata": {},
   "outputs": [],
   "source": [
    "def makepredict(vectorizer, classifier, data):\n",
    "    data_features = vectorizer.transform(data['content'])\n",
    "    predictions = classifier.predict(data_features)\n",
    "    \n",
    "    return predictions\n"
   ]
  },
  {
   "cell_type": "code",
   "execution_count": 36,
   "metadata": {},
   "outputs": [],
   "source": [
    "df_test[\"label\"] = makepredict(count_vectorizer, logreg, df_test)"
   ]
  },
  {
   "cell_type": "code",
   "execution_count": 38,
   "metadata": {},
   "outputs": [
    {
     "data": {
      "text/plain": [
       "functools.partial(<function submit at 0x000001B878545F70>, 'nati yannay', 'elta', 'natiy4@gmail.com', '0528843480')"
      ]
     },
     "execution_count": 38,
     "metadata": {},
     "output_type": "execute_result"
    }
   ],
   "source": [
    "my_submit"
   ]
  },
  {
   "cell_type": "code",
   "execution_count": 40,
   "metadata": {},
   "outputs": [
    {
     "data": {
      "text/plain": [
       "0.95620437956204"
      ]
     },
     "execution_count": 40,
     "metadata": {},
     "output_type": "execute_result"
    }
   ],
   "source": [
    "# for all documents\n",
    "#df_test[\"label\"] = \"rsu\"\n",
    "submission = dict(df_test[[\"id\",\"label\"]].values)\n",
    "#submission name must be unique\n",
    "submission_name = \"nati lr-bow\"\n",
    "my_submit(submission_name, submission)\n"
   ]
  },
  {
   "cell_type": "markdown",
   "metadata": {},
   "source": [
    "## Sample submission 2: Submission by string search\n"
   ]
  },
  {
   "cell_type": "code",
   "execution_count": 7,
   "metadata": {},
   "outputs": [
    {
     "data": {
      "text/plain": [
       "0.65085158150852"
      ]
     },
     "execution_count": 7,
     "metadata": {},
     "output_type": "execute_result"
    }
   ],
   "source": [
    "df_test[\"label\"] = \"rsu\"\n",
    "df_test.loc[df_test[\"content\"].str.contains(\"EMPLOYMENT\"),\"label\"] = 'employment'\n",
    "df_test.loc[df_test[\"content\"].str.contains(\"CREDIT\"),\"label\"] = 'credit'\n",
    "df_test.loc[df_test[\"content\"].str.contains(\"BYLAWS\"),\"label\"] = 'bylaws'\n",
    "df_test.loc[df_test[\"content\"].str.contains(\"REGISTRAR\"),\"label\"] = 'rra'\n",
    "submission = dict(df_test[[\"id\",\"label\"]].values)\n",
    "\n",
    "submission_name = \"uri_string_search\"\n",
    "my_submit(submission_name, submission)"
   ]
  },
  {
   "cell_type": "markdown",
   "metadata": {},
   "source": [
    "# See how you rank\n",
    "Leaderboard is available at:\n",
    "https://goren.ml/uattcontract\n",
    "\n",
    "Accuracy of **90%** and above is required to pass the test\n",
    "\n",
    "## Leaderboard not refreshing ?\n",
    "try adding a random suffix to it, like this one:"
   ]
  },
  {
   "cell_type": "code",
   "execution_count": 8,
   "metadata": {},
   "outputs": [
    {
     "data": {
      "text/html": [
       "<a href=\"https://goren.ml/uattcontract/?BqxQRJU=yKkAdce\" target=\"_blank\">Go to Leaderboard</a>"
      ],
      "text/plain": [
       "<IPython.core.display.HTML object>"
      ]
     },
     "execution_count": 8,
     "metadata": {},
     "output_type": "execute_result"
    }
   ],
   "source": [
    "import random, string\n",
    "from IPython.display import HTML\n",
    "rand_str = lambda: \"\".join(random.sample(string.ascii_letters,7))\n",
    "HTML('<a href=\"https://goren.ml/uattcontract/?{k}={v}\" target=\"_blank\">Go to Leaderboard</a>'.format(k=rand_str(),v=rand_str()))"
   ]
  },
  {
   "cell_type": "code",
   "execution_count": null,
   "metadata": {},
   "outputs": [],
   "source": []
  }
 ],
 "metadata": {
  "kernelspec": {
   "display_name": "Python 3",
   "language": "python",
   "name": "python3"
  },
  "language_info": {
   "codemirror_mode": {
    "name": "ipython",
    "version": 3
   },
   "file_extension": ".py",
   "mimetype": "text/x-python",
   "name": "python",
   "nbconvert_exporter": "python",
   "pygments_lexer": "ipython3",
   "version": "3.9.10"
  }
 },
 "nbformat": 4,
 "nbformat_minor": 4
}
